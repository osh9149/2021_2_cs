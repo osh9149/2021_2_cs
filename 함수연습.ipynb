{
  "nbformat": 4,
  "nbformat_minor": 0,
  "metadata": {
    "colab": {
      "name": "함수연습.ipynb",
      "provenance": [],
      "collapsed_sections": [],
      "authorship_tag": "ABX9TyMudD4nFoaNd8nkeMuzwstH",
      "include_colab_link": true
    },
    "kernelspec": {
      "name": "python3",
      "display_name": "Python 3"
    },
    "language_info": {
      "name": "python"
    }
  },
  "cells": [
    {
      "cell_type": "markdown",
      "metadata": {
        "id": "view-in-github",
        "colab_type": "text"
      },
      "source": [
        "<a href=\"https://colab.research.google.com/github/osh9149/2021_2_cs/blob/main/%ED%95%A8%EC%88%98%EC%97%B0%EC%8A%B5.ipynb\" target=\"_parent\"><img src=\"https://colab.research.google.com/assets/colab-badge.svg\" alt=\"Open In Colab\"/></a>"
      ]
    },
    {
      "cell_type": "code",
      "metadata": {
        "colab": {
          "base_uri": "https://localhost:8080/"
        },
        "id": "PCx3-0gSZ7q2",
        "outputId": "8485c379-c09d-4096-d82c-1c6c3b65c6ba"
      },
      "source": [
        "n=int(input())\n",
        "if n%2==0:\n",
        "    print('even')\n",
        "else:\n",
        "    print('odd')"
      ],
      "execution_count": null,
      "outputs": [
        {
          "output_type": "stream",
          "text": [
            "125\n",
            "odd\n"
          ],
          "name": "stdout"
        }
      ]
    },
    {
      "cell_type": "code",
      "metadata": {
        "colab": {
          "base_uri": "https://localhost:8080/"
        },
        "id": "h_XrA0sAatog",
        "outputId": "0c8d2970-4d75-4122-9b01-e6592b2c1753"
      },
      "source": [
        "def triangle(x,y):\n",
        "    return x*y/2\n",
        "\n",
        "def rectagle(x,y):\n",
        "    return x*y\n",
        "\n",
        "a,b=map(int,input().split())\n",
        "area1=triangle(a,b)\n",
        "area2=rectagle(a,b)\n",
        "print('삼각형의 면적 :{}, 사각형의 면적 :{}'.format(area1,area2))"
      ],
      "execution_count": null,
      "outputs": [
        {
          "output_type": "stream",
          "text": [
            "10 5\n",
            "삼각형의 면적 :25.0, 사각형의 면적 :50\n"
          ],
          "name": "stdout"
        }
      ]
    },
    {
      "cell_type": "code",
      "metadata": {
        "colab": {
          "base_uri": "https://localhost:8080/"
        },
        "id": "aH1wFH-7hdLt",
        "outputId": "cebd1428-d4cc-4f9b-8452-52a636d72d2a"
      },
      "source": [
        "height=int(input())\n",
        "weight=int(input())\n",
        "\n",
        "height/=100\n",
        "bmi=weight/(height*height)\n",
        "if bmi>=30:\n",
        "    status='비만'\n",
        "elif bmi>=25:\n",
        "    status='경도비만'\n",
        "elif bmi>=23:\n",
        "    status='과체중'\n",
        "elif bmi>=18.5:\n",
        "    status='정상'\n",
        "else:\n",
        "    status='저체중'\n",
        "\n",
        "print(status)"
      ],
      "execution_count": null,
      "outputs": [
        {
          "output_type": "stream",
          "text": [
            "175\n",
            "70\n",
            "정상\n"
          ],
          "name": "stdout"
        }
      ]
    },
    {
      "cell_type": "code",
      "metadata": {
        "colab": {
          "base_uri": "https://localhost:8080/"
        },
        "id": "8nnBUB8bkBqW",
        "outputId": "205b57de-ebb6-4b24-9770-b9824accc18b"
      },
      "source": [
        "def cal_bmi(h,w):\n",
        "    h/=100\n",
        "    bmi=w/(h*h)\n",
        "    if bmi>=30:\n",
        "        status='비만'\n",
        "    elif bmi>=25:\n",
        "        status='경도비만'\n",
        "    elif bmi>=23:\n",
        "        status='과체중'\n",
        "    elif bmi>=18.5:\n",
        "        status='정상'\n",
        "    else:\n",
        "        status='저체중'\n",
        "\n",
        "    return status\n",
        "\n",
        "height=int(input())\n",
        "weight=int(input())\n",
        "s=cal_bmi(height, weight)\n",
        "print('키 {}cm, 몸무게 {}kg 인 당신은 {}입니다.'.format(height,weight,s))"
      ],
      "execution_count": null,
      "outputs": [
        {
          "output_type": "stream",
          "text": [
            "180\n",
            "70\n",
            "키 180cm, 몸무게 70kg 인 당신은 정상입니다.\n"
          ],
          "name": "stdout"
        }
      ]
    },
    {
      "cell_type": "code",
      "metadata": {
        "id": "XgRos2jYlN70"
      },
      "source": [
        ""
      ],
      "execution_count": null,
      "outputs": []
    }
  ]
}