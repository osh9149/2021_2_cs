{
  "nbformat": 4,
  "nbformat_minor": 0,
  "metadata": {
    "colab": {
      "name": "웹스크래핑실전(멜론차트).ipynb",
      "provenance": [],
      "collapsed_sections": [],
      "authorship_tag": "ABX9TyOtnq0vF+b1iBHm7oFaRoaz",
      "include_colab_link": true
    },
    "kernelspec": {
      "name": "python3",
      "display_name": "Python 3"
    },
    "language_info": {
      "name": "python"
    }
  },
  "cells": [
    {
      "cell_type": "markdown",
      "metadata": {
        "id": "view-in-github",
        "colab_type": "text"
      },
      "source": [
        "<a href=\"https://colab.research.google.com/github/osh9149/2021_cs/blob/main/%EC%9B%B9%EC%8A%A4%ED%81%AC%EB%9E%98%ED%95%91%EC%8B%A4%EC%A0%84(%EB%A9%9C%EB%A1%A0%EC%B0%A8%ED%8A%B8).ipynb\" target=\"_parent\"><img src=\"https://colab.research.google.com/assets/colab-badge.svg\" alt=\"Open In Colab\"/></a>"
      ]
    },
    {
      "cell_type": "code",
      "metadata": {
        "colab": {
          "base_uri": "https://localhost:8080/"
        },
        "id": "Tj0trdIFuDcc",
        "outputId": "50d583c6-c2a4-4c44-8f52-d039465ae918"
      },
      "source": [
        "#코랩의 경우 selenium, chromdriver설치\n",
        "!pip install Selenium\n",
        "\n",
        "!apt-get update # to update ubuntu to correctly run apt install\n",
        "\n",
        "!apt install chromium-chromedriver"
      ],
      "execution_count": null,
      "outputs": [
        {
          "output_type": "stream",
          "text": [
            "Collecting Selenium\n",
            "\u001b[?25l  Downloading https://files.pythonhosted.org/packages/80/d6/4294f0b4bce4de0abf13e17190289f9d0613b0a44e5dd6a7f5ca98459853/selenium-3.141.0-py2.py3-none-any.whl (904kB)\n",
            "\r\u001b[K     |▍                               | 10kB 14.6MB/s eta 0:00:01\r\u001b[K     |▊                               | 20kB 19.8MB/s eta 0:00:01\r\u001b[K     |█                               | 30kB 23.5MB/s eta 0:00:01\r\u001b[K     |█▌                              | 40kB 26.5MB/s eta 0:00:01\r\u001b[K     |█▉                              | 51kB 28.2MB/s eta 0:00:01\r\u001b[K     |██▏                             | 61kB 22.1MB/s eta 0:00:01\r\u001b[K     |██▌                             | 71kB 21.4MB/s eta 0:00:01\r\u001b[K     |███                             | 81kB 17.6MB/s eta 0:00:01\r\u001b[K     |███▎                            | 92kB 17.3MB/s eta 0:00:01\r\u001b[K     |███▋                            | 102kB 17.9MB/s eta 0:00:01\r\u001b[K     |████                            | 112kB 17.9MB/s eta 0:00:01\r\u001b[K     |████▍                           | 122kB 17.9MB/s eta 0:00:01\r\u001b[K     |████▊                           | 133kB 17.9MB/s eta 0:00:01\r\u001b[K     |█████                           | 143kB 17.9MB/s eta 0:00:01\r\u001b[K     |█████▍                          | 153kB 17.9MB/s eta 0:00:01\r\u001b[K     |█████▉                          | 163kB 17.9MB/s eta 0:00:01\r\u001b[K     |██████▏                         | 174kB 17.9MB/s eta 0:00:01\r\u001b[K     |██████▌                         | 184kB 17.9MB/s eta 0:00:01\r\u001b[K     |██████▉                         | 194kB 17.9MB/s eta 0:00:01\r\u001b[K     |███████▎                        | 204kB 17.9MB/s eta 0:00:01\r\u001b[K     |███████▋                        | 215kB 17.9MB/s eta 0:00:01\r\u001b[K     |████████                        | 225kB 17.9MB/s eta 0:00:01\r\u001b[K     |████████▎                       | 235kB 17.9MB/s eta 0:00:01\r\u001b[K     |████████▊                       | 245kB 17.9MB/s eta 0:00:01\r\u001b[K     |█████████                       | 256kB 17.9MB/s eta 0:00:01\r\u001b[K     |█████████▍                      | 266kB 17.9MB/s eta 0:00:01\r\u001b[K     |█████████▉                      | 276kB 17.9MB/s eta 0:00:01\r\u001b[K     |██████████▏                     | 286kB 17.9MB/s eta 0:00:01\r\u001b[K     |██████████▌                     | 296kB 17.9MB/s eta 0:00:01\r\u001b[K     |██████████▉                     | 307kB 17.9MB/s eta 0:00:01\r\u001b[K     |███████████▎                    | 317kB 17.9MB/s eta 0:00:01\r\u001b[K     |███████████▋                    | 327kB 17.9MB/s eta 0:00:01\r\u001b[K     |████████████                    | 337kB 17.9MB/s eta 0:00:01\r\u001b[K     |████████████▎                   | 348kB 17.9MB/s eta 0:00:01\r\u001b[K     |████████████▊                   | 358kB 17.9MB/s eta 0:00:01\r\u001b[K     |█████████████                   | 368kB 17.9MB/s eta 0:00:01\r\u001b[K     |█████████████▍                  | 378kB 17.9MB/s eta 0:00:01\r\u001b[K     |█████████████▊                  | 389kB 17.9MB/s eta 0:00:01\r\u001b[K     |██████████████▏                 | 399kB 17.9MB/s eta 0:00:01\r\u001b[K     |██████████████▌                 | 409kB 17.9MB/s eta 0:00:01\r\u001b[K     |██████████████▉                 | 419kB 17.9MB/s eta 0:00:01\r\u001b[K     |███████████████▏                | 430kB 17.9MB/s eta 0:00:01\r\u001b[K     |███████████████▋                | 440kB 17.9MB/s eta 0:00:01\r\u001b[K     |████████████████                | 450kB 17.9MB/s eta 0:00:01\r\u001b[K     |████████████████▎               | 460kB 17.9MB/s eta 0:00:01\r\u001b[K     |████████████████▋               | 471kB 17.9MB/s eta 0:00:01\r\u001b[K     |█████████████████               | 481kB 17.9MB/s eta 0:00:01\r\u001b[K     |█████████████████▍              | 491kB 17.9MB/s eta 0:00:01\r\u001b[K     |█████████████████▊              | 501kB 17.9MB/s eta 0:00:01\r\u001b[K     |██████████████████▏             | 512kB 17.9MB/s eta 0:00:01\r\u001b[K     |██████████████████▌             | 522kB 17.9MB/s eta 0:00:01\r\u001b[K     |██████████████████▉             | 532kB 17.9MB/s eta 0:00:01\r\u001b[K     |███████████████████▏            | 542kB 17.9MB/s eta 0:00:01\r\u001b[K     |███████████████████▋            | 552kB 17.9MB/s eta 0:00:01\r\u001b[K     |████████████████████            | 563kB 17.9MB/s eta 0:00:01\r\u001b[K     |████████████████████▎           | 573kB 17.9MB/s eta 0:00:01\r\u001b[K     |████████████████████▋           | 583kB 17.9MB/s eta 0:00:01\r\u001b[K     |█████████████████████           | 593kB 17.9MB/s eta 0:00:01\r\u001b[K     |█████████████████████▍          | 604kB 17.9MB/s eta 0:00:01\r\u001b[K     |█████████████████████▊          | 614kB 17.9MB/s eta 0:00:01\r\u001b[K     |██████████████████████          | 624kB 17.9MB/s eta 0:00:01\r\u001b[K     |██████████████████████▌         | 634kB 17.9MB/s eta 0:00:01\r\u001b[K     |██████████████████████▉         | 645kB 17.9MB/s eta 0:00:01\r\u001b[K     |███████████████████████▏        | 655kB 17.9MB/s eta 0:00:01\r\u001b[K     |███████████████████████▌        | 665kB 17.9MB/s eta 0:00:01\r\u001b[K     |████████████████████████        | 675kB 17.9MB/s eta 0:00:01\r\u001b[K     |████████████████████████▎       | 686kB 17.9MB/s eta 0:00:01\r\u001b[K     |████████████████████████▋       | 696kB 17.9MB/s eta 0:00:01\r\u001b[K     |█████████████████████████       | 706kB 17.9MB/s eta 0:00:01\r\u001b[K     |█████████████████████████▍      | 716kB 17.9MB/s eta 0:00:01\r\u001b[K     |█████████████████████████▊      | 727kB 17.9MB/s eta 0:00:01\r\u001b[K     |██████████████████████████      | 737kB 17.9MB/s eta 0:00:01\r\u001b[K     |██████████████████████████▍     | 747kB 17.9MB/s eta 0:00:01\r\u001b[K     |██████████████████████████▉     | 757kB 17.9MB/s eta 0:00:01\r\u001b[K     |███████████████████████████▏    | 768kB 17.9MB/s eta 0:00:01\r\u001b[K     |███████████████████████████▌    | 778kB 17.9MB/s eta 0:00:01\r\u001b[K     |████████████████████████████    | 788kB 17.9MB/s eta 0:00:01\r\u001b[K     |████████████████████████████▎   | 798kB 17.9MB/s eta 0:00:01\r\u001b[K     |████████████████████████████▋   | 808kB 17.9MB/s eta 0:00:01\r\u001b[K     |█████████████████████████████   | 819kB 17.9MB/s eta 0:00:01\r\u001b[K     |█████████████████████████████▍  | 829kB 17.9MB/s eta 0:00:01\r\u001b[K     |█████████████████████████████▊  | 839kB 17.9MB/s eta 0:00:01\r\u001b[K     |██████████████████████████████  | 849kB 17.9MB/s eta 0:00:01\r\u001b[K     |██████████████████████████████▍ | 860kB 17.9MB/s eta 0:00:01\r\u001b[K     |██████████████████████████████▉ | 870kB 17.9MB/s eta 0:00:01\r\u001b[K     |███████████████████████████████▏| 880kB 17.9MB/s eta 0:00:01\r\u001b[K     |███████████████████████████████▌| 890kB 17.9MB/s eta 0:00:01\r\u001b[K     |███████████████████████████████▉| 901kB 17.9MB/s eta 0:00:01\r\u001b[K     |████████████████████████████████| 911kB 17.9MB/s \n",
            "\u001b[?25hRequirement already satisfied: urllib3 in /usr/local/lib/python3.7/dist-packages (from Selenium) (1.24.3)\n",
            "Installing collected packages: Selenium\n",
            "Successfully installed Selenium-3.141.0\n",
            "Get:1 https://cloud.r-project.org/bin/linux/ubuntu bionic-cran40/ InRelease [3,626 B]\n",
            "Ign:2 https://developer.download.nvidia.com/compute/cuda/repos/ubuntu1804/x86_64  InRelease\n",
            "Get:3 http://ppa.launchpad.net/c2d4u.team/c2d4u4.0+/ubuntu bionic InRelease [15.9 kB]\n",
            "Get:4 http://security.ubuntu.com/ubuntu bionic-security InRelease [88.7 kB]\n",
            "Hit:5 http://archive.ubuntu.com/ubuntu bionic InRelease\n",
            "Ign:6 https://developer.download.nvidia.com/compute/machine-learning/repos/ubuntu1804/x86_64  InRelease\n",
            "Get:7 https://developer.download.nvidia.com/compute/cuda/repos/ubuntu1804/x86_64  Release [697 B]\n",
            "Hit:8 https://developer.download.nvidia.com/compute/machine-learning/repos/ubuntu1804/x86_64  Release\n",
            "Get:9 https://developer.download.nvidia.com/compute/cuda/repos/ubuntu1804/x86_64  Release.gpg [836 B]\n",
            "Get:10 http://archive.ubuntu.com/ubuntu bionic-updates InRelease [88.7 kB]\n",
            "Hit:11 http://ppa.launchpad.net/cran/libgit2/ubuntu bionic InRelease\n",
            "Get:12 http://ppa.launchpad.net/deadsnakes/ppa/ubuntu bionic InRelease [15.9 kB]\n",
            "Get:13 http://archive.ubuntu.com/ubuntu bionic-backports InRelease [74.6 kB]\n",
            "Hit:14 http://ppa.launchpad.net/graphics-drivers/ppa/ubuntu bionic InRelease\n",
            "Get:16 http://ppa.launchpad.net/c2d4u.team/c2d4u4.0+/ubuntu bionic/main Sources [1,756 kB]\n",
            "Ign:17 https://developer.download.nvidia.com/compute/cuda/repos/ubuntu1804/x86_64  Packages\n",
            "Get:17 https://developer.download.nvidia.com/compute/cuda/repos/ubuntu1804/x86_64  Packages [739 kB]\n",
            "Get:18 http://security.ubuntu.com/ubuntu bionic-security/universe amd64 Packages [1,410 kB]\n",
            "Get:19 http://ppa.launchpad.net/c2d4u.team/c2d4u4.0+/ubuntu bionic/main amd64 Packages [899 kB]\n",
            "Get:20 http://security.ubuntu.com/ubuntu bionic-security/restricted amd64 Packages [395 kB]\n",
            "Get:21 http://security.ubuntu.com/ubuntu bionic-security/main amd64 Packages [2,116 kB]\n",
            "Get:22 http://security.ubuntu.com/ubuntu bionic-security/multiverse amd64 Packages [24.5 kB]\n",
            "Get:23 http://archive.ubuntu.com/ubuntu bionic-updates/universe amd64 Packages [2,182 kB]\n",
            "Get:24 http://archive.ubuntu.com/ubuntu bionic-updates/multiverse amd64 Packages [31.4 kB]\n",
            "Get:25 http://archive.ubuntu.com/ubuntu bionic-updates/restricted amd64 Packages [425 kB]\n",
            "Get:26 http://archive.ubuntu.com/ubuntu bionic-updates/main amd64 Packages [2,546 kB]\n",
            "Get:27 http://ppa.launchpad.net/deadsnakes/ppa/ubuntu bionic/main amd64 Packages [39.5 kB]\n",
            "Fetched 12.9 MB in 3s (3,771 kB/s)\n",
            "Reading package lists... Done\n",
            "Reading package lists... Done\n",
            "Building dependency tree       \n",
            "Reading state information... Done\n",
            "The following additional packages will be installed:\n",
            "  chromium-browser chromium-browser-l10n chromium-codecs-ffmpeg-extra\n",
            "Suggested packages:\n",
            "  webaccounts-chromium-extension unity-chromium-extension\n",
            "The following NEW packages will be installed:\n",
            "  chromium-browser chromium-browser-l10n chromium-chromedriver\n",
            "  chromium-codecs-ffmpeg-extra\n",
            "0 upgraded, 4 newly installed, 0 to remove and 78 not upgraded.\n",
            "Need to get 86.6 MB of archives.\n",
            "After this operation, 300 MB of additional disk space will be used.\n",
            "Get:1 http://archive.ubuntu.com/ubuntu bionic-updates/universe amd64 chromium-codecs-ffmpeg-extra amd64 90.0.4430.72-0ubuntu0.18.04.1 [1,128 kB]\n",
            "Get:2 http://archive.ubuntu.com/ubuntu bionic-updates/universe amd64 chromium-browser amd64 90.0.4430.72-0ubuntu0.18.04.1 [76.9 MB]\n",
            "Get:3 http://archive.ubuntu.com/ubuntu bionic-updates/universe amd64 chromium-browser-l10n all 90.0.4430.72-0ubuntu0.18.04.1 [3,858 kB]\n",
            "Get:4 http://archive.ubuntu.com/ubuntu bionic-updates/universe amd64 chromium-chromedriver amd64 90.0.4430.72-0ubuntu0.18.04.1 [4,743 kB]\n",
            "Fetched 86.6 MB in 3s (28.3 MB/s)\n",
            "Selecting previously unselected package chromium-codecs-ffmpeg-extra.\n",
            "(Reading database ... 160983 files and directories currently installed.)\n",
            "Preparing to unpack .../chromium-codecs-ffmpeg-extra_90.0.4430.72-0ubuntu0.18.04.1_amd64.deb ...\n",
            "Unpacking chromium-codecs-ffmpeg-extra (90.0.4430.72-0ubuntu0.18.04.1) ...\n",
            "Selecting previously unselected package chromium-browser.\n",
            "Preparing to unpack .../chromium-browser_90.0.4430.72-0ubuntu0.18.04.1_amd64.deb ...\n",
            "Unpacking chromium-browser (90.0.4430.72-0ubuntu0.18.04.1) ...\n",
            "Selecting previously unselected package chromium-browser-l10n.\n",
            "Preparing to unpack .../chromium-browser-l10n_90.0.4430.72-0ubuntu0.18.04.1_all.deb ...\n",
            "Unpacking chromium-browser-l10n (90.0.4430.72-0ubuntu0.18.04.1) ...\n",
            "Selecting previously unselected package chromium-chromedriver.\n",
            "Preparing to unpack .../chromium-chromedriver_90.0.4430.72-0ubuntu0.18.04.1_amd64.deb ...\n",
            "Unpacking chromium-chromedriver (90.0.4430.72-0ubuntu0.18.04.1) ...\n",
            "Setting up chromium-codecs-ffmpeg-extra (90.0.4430.72-0ubuntu0.18.04.1) ...\n",
            "Setting up chromium-browser (90.0.4430.72-0ubuntu0.18.04.1) ...\n",
            "update-alternatives: using /usr/bin/chromium-browser to provide /usr/bin/x-www-browser (x-www-browser) in auto mode\n",
            "update-alternatives: using /usr/bin/chromium-browser to provide /usr/bin/gnome-www-browser (gnome-www-browser) in auto mode\n",
            "Setting up chromium-chromedriver (90.0.4430.72-0ubuntu0.18.04.1) ...\n",
            "Setting up chromium-browser-l10n (90.0.4430.72-0ubuntu0.18.04.1) ...\n",
            "Processing triggers for man-db (2.8.3-2ubuntu0.1) ...\n",
            "Processing triggers for hicolor-icon-theme (0.17-2) ...\n",
            "Processing triggers for mime-support (3.60ubuntu1) ...\n",
            "Processing triggers for libc-bin (2.27-3ubuntu1.2) ...\n",
            "/sbin/ldconfig.real: /usr/local/lib/python3.7/dist-packages/ideep4py/lib/libmkldnn.so.0 is not a symbolic link\n",
            "\n"
          ],
          "name": "stdout"
        }
      ]
    },
    {
      "cell_type": "code",
      "metadata": {
        "colab": {
          "base_uri": "https://localhost:8080/"
        },
        "id": "tFL2_UWEuWX-",
        "outputId": "c0edd952-a910-420a-fb33-82da5f2a05dd"
      },
      "source": [
        "#코랩의 경우\n",
        "from selenium import webdriver\n",
        "\n",
        "chrome_options = webdriver.ChromeOptions()\n",
        "\n",
        "chrome_options.add_argument('--headless') #내부 창을 띄울 수 없으므로 설정\n",
        "\n",
        "chrome_options.add_argument('--no-sandbox')\n",
        "\n",
        "chrome_options.add_argument('--disable-dev-shm-usage')\n",
        "\n",
        "driver = webdriver.Chrome('chromedriver',chrome_options=chrome_options)"
      ],
      "execution_count": null,
      "outputs": [
        {
          "output_type": "stream",
          "text": [
            "/usr/local/lib/python3.7/dist-packages/ipykernel_launcher.py:12: DeprecationWarning: use options instead of chrome_options\n",
            "  if sys.path[0] == '':\n"
          ],
          "name": "stderr"
        }
      ]
    },
    {
      "cell_type": "code",
      "metadata": {
        "id": "4zpBcbz_uWkL"
      },
      "source": [
        "# 멜론 인기차트 웹페이지 접속하기\n",
        "url = 'http://www.melon.com/chart/index.htm'\n",
        "driver.get(url)"
      ],
      "execution_count": null,
      "outputs": []
    },
    {
      "cell_type": "code",
      "metadata": {
        "id": "eXuWRkWHuWm9"
      },
      "source": [
        "# HTML 다운로드 및 BeautifulSoup으로 읽기\n",
        "from bs4 import BeautifulSoup\n",
        "html = driver.page_source\n",
        "soup = BeautifulSoup(html, 'html.parser')"
      ],
      "execution_count": null,
      "outputs": []
    },
    {
      "cell_type": "code",
      "metadata": {
        "colab": {
          "base_uri": "https://localhost:8080/"
        },
        "id": "CCAVEoNruWpn",
        "outputId": "ff394f8e-521d-4fc3-eccf-2f2de46288cd"
      },
      "source": [
        "# 100개의 노래 태그 찾기  \n",
        "songs = soup.select('tr')  \n",
        "print(len(songs))\n",
        "print(songs[0])"
      ],
      "execution_count": null,
      "outputs": [
        {
          "output_type": "stream",
          "text": [
            "101\n",
            "<tr>\n",
            "<th scope=\"col\">\n",
            "<div class=\"wrap t_right\"><input class=\"input_check d_checkall\" title=\"곡 목록 전체 선택\" type=\"checkbox\"/></div>\n",
            "</th>\n",
            "<th scope=\"col\">\n",
            "<div class=\"wrap none\">앨범이미지</div>\n",
            "</th>\n",
            "<th scope=\"col\">\n",
            "<div class=\"wrap none\">곡 상세가기</div>\n",
            "</th>\n",
            "<th scope=\"col\">\n",
            "<div class=\"wrap pd_l_12\">곡정보</div>\n",
            "</th>\n",
            "<th scope=\"col\">\n",
            "<div class=\"wrap pd_l_12\">앨범</div>\n",
            "</th>\n",
            "<th scope=\"col\">\n",
            "<div class=\"wrap pd_l_30\">좋아요</div>\n",
            "</th>\n",
            "<th scope=\"col\">\n",
            "<div class=\"wrap t_center\">듣기</div>\n",
            "</th>\n",
            "<th scope=\"col\">\n",
            "<div class=\"wrap t_center\">담기</div>\n",
            "</th>\n",
            "<th scope=\"col\">\n",
            "<div class=\"wrap t_center\">다운</div>\n",
            "</th>\n",
            "<th scope=\"col\">\n",
            "<div class=\"wrap t_center\">뮤비</div>\n",
            "</th>\n",
            "</tr>\n"
          ],
          "name": "stdout"
        }
      ]
    },
    {
      "cell_type": "code",
      "metadata": {
        "colab": {
          "base_uri": "https://localhost:8080/"
        },
        "id": "fHTiuwQ2uWst",
        "outputId": "27c63d5e-0de4-470a-fbd8-101b6a1066d4"
      },
      "source": [
        "# 100개의 곡을 찾고 싶으나, 101개의 태그 뭉치가 검색됨    len(songs)  -->  101 \n",
        "# 101개 중 첫 번째 태그 뭉치(songs[0]) 을 살펴보니 표에서 컬럼제목(곡정보/앨범/좋아요... )을 나타내고 있음\n",
        "# 101개 중 첫 번째는 컬럼 제목,   두 번째 부터 끝까지,  남은 100개는 노래 정보 일 것으로 예상됨\n",
        "\n",
        "songs = soup.select('tr')[1:]     # 첫 번째는 제외하고, 두 번째(인덱스번호 1) 부터 끝까지만 선택\n",
        "print(len(songs))                 # 100  으로   정리하고 싶은 노래 개수에 맞게 선택됨\n",
        "print(songs[0])                   # 그 중 첫 번째 태그를 보니, 1위 곡으로 조회됨"
      ],
      "execution_count": null,
      "outputs": [
        {
          "output_type": "stream",
          "text": [
            "100\n",
            "<tr data-song-no=\"30287019\">\n",
            "<td><div class=\"wrap t_right\"><input class=\"input_check \" name=\"input_check\" title=\"롤린 (Rollin') 곡 선택\" type=\"checkbox\" value=\"30287019\"/></div></td>\n",
            "<td><div class=\"wrap\">\n",
            "<a class=\"image_typeAll\" href=\"javascript:melon.link.goAlbumDetail('10043575');\" title=\"Rollin'\">\n",
            "<img alt=\"Rollin' - 페이지 이동\" height=\"60\" onerror=\"WEBPOCIMG.defaultAlbumImg(this);\" src=\"https://cdnimg.melon.co.kr/cm2/album/images/100/43/575/10043575_20210302112520_500.jpg/melon/resize/120/quality/80/optimize\" width=\"60\"/>\n",
            "<span class=\"bg_album_frame\"></span>\n",
            "</a>\n",
            "</div></td>\n",
            "<td><div class=\"wrap\">\n",
            "<a class=\"btn button_icons type03 song_info\" href=\"javascript:melon.link.goSongDetail('30287019');\" title=\"롤린 (Rollin') 곡정보\"><span class=\"none\">곡정보</span></a>\n",
            "</div></td>\n",
            "<td><div class=\"wrap\">\n",
            "<div class=\"wrap_song_info\">\n",
            "<div class=\"ellipsis rank01\"><span>\n",
            "<a href=\"javascript:melon.play.playSong('19030101',30287019);\" title=\"롤린 (Rollin') 재생\">롤린 (Rollin')</a>\n",
            "</span></div>\n",
            "<br/>\n",
            "<div class=\"ellipsis rank02\">\n",
            "<a href=\"javascript:melon.link.goArtistDetail('531700');\" title=\"브레이브걸스 - 페이지 이동\">브레이브걸스</a><span class=\"checkEllipsis\" style=\"display: none;\"><a href=\"javascript:melon.link.goArtistDetail('531700');\" title=\"브레이브걸스 - 페이지 이동\">브레이브걸스</a></span>\n",
            "</div>\n",
            "</div>\n",
            "</div></td>\n",
            "<td><div class=\"wrap\">\n",
            "<div class=\"wrap_song_info\">\n",
            "<div class=\"ellipsis rank03\">\n",
            "<a href=\"javascript:melon.link.goAlbumDetail('10043575');\" title=\"Rollin' - 페이지 이동\">Rollin'</a>\n",
            "</div>\n",
            "</div>\n",
            "</div></td>\n",
            "<td><div class=\"wrap\">\n",
            "<button class=\"button_etc like\" data-song-menuid=\"19030101\" data-song-no=\"30287019\" title=\"롤린 (Rollin') 좋아요\" type=\"button\"><span class=\"odd_span\">좋아요</span>\n",
            "<span class=\"cnt\">\n",
            "<span class=\"none\">총건수</span>\n",
            "239,262</span></button>\n",
            "</div></td>\n",
            "<td><div class=\"wrap t_center\">\n",
            "<button class=\"button_icons play \" onclick=\"melon.play.playSong('19030101',30287019);\" title=\"듣기\" type=\"button\"><span class=\"none\">듣기</span></button>\n",
            "</div></td>\n",
            "<td><div class=\"wrap t_center\">\n",
            "<button class=\"button_icons scrap \" onclick=\"melon.play.addPlayList('30287019');\" title=\"담기\" type=\"button\"><span class=\"none\">담기</span></button>\n",
            "</div></td>\n",
            "<td><div class=\"wrap t_center\">\n",
            "<button class=\"button_icons download \" onclick=\"melon.buy.goBuyProduct('frm', '30287019', '3C0001', '','0', '19030101');\" title=\"다운로드\" type=\"button\"><span class=\"none\">다운로드</span></button>\n",
            "</div></td>\n",
            "<td><div class=\"wrap t_center\">\n",
            "<button class=\"button_icons video \" onclick=\"melon.link.goMvDetail('19030101', '30287019','song');\" title=\"뮤직비디오\" type=\"button\"><span class=\"none\">뮤직비디오</span></button>\n",
            "</div></td>\n",
            "</tr>\n"
          ],
          "name": "stdout"
        }
      ]
    },
    {
      "cell_type": "code",
      "metadata": {
        "colab": {
          "base_uri": "https://localhost:8080/"
        },
        "id": "goNKXxuevDtA",
        "outputId": "fa65fa33-f08c-4be4-db82-a8f6a0e081c0"
      },
      "source": [
        "# 한 개의 곡 정보 지정하기\n",
        "song = songs[0]\n",
        "print(song)   # 데이터 확인 할 경우 주석 해제하고 실행하세요"
      ],
      "execution_count": null,
      "outputs": [
        {
          "output_type": "stream",
          "text": [
            "<tr data-song-no=\"30287019\">\n",
            "<td><div class=\"wrap t_right\"><input class=\"input_check \" name=\"input_check\" title=\"롤린 (Rollin') 곡 선택\" type=\"checkbox\" value=\"30287019\"/></div></td>\n",
            "<td><div class=\"wrap\">\n",
            "<a class=\"image_typeAll\" href=\"javascript:melon.link.goAlbumDetail('10043575');\" title=\"Rollin'\">\n",
            "<img alt=\"Rollin' - 페이지 이동\" height=\"60\" onerror=\"WEBPOCIMG.defaultAlbumImg(this);\" src=\"https://cdnimg.melon.co.kr/cm2/album/images/100/43/575/10043575_20210302112520_500.jpg/melon/resize/120/quality/80/optimize\" width=\"60\"/>\n",
            "<span class=\"bg_album_frame\"></span>\n",
            "</a>\n",
            "</div></td>\n",
            "<td><div class=\"wrap\">\n",
            "<a class=\"btn button_icons type03 song_info\" href=\"javascript:melon.link.goSongDetail('30287019');\" title=\"롤린 (Rollin') 곡정보\"><span class=\"none\">곡정보</span></a>\n",
            "</div></td>\n",
            "<td><div class=\"wrap\">\n",
            "<div class=\"wrap_song_info\">\n",
            "<div class=\"ellipsis rank01\"><span>\n",
            "<a href=\"javascript:melon.play.playSong('19030101',30287019);\" title=\"롤린 (Rollin') 재생\">롤린 (Rollin')</a>\n",
            "</span></div>\n",
            "<br/>\n",
            "<div class=\"ellipsis rank02\">\n",
            "<a href=\"javascript:melon.link.goArtistDetail('531700');\" title=\"브레이브걸스 - 페이지 이동\">브레이브걸스</a><span class=\"checkEllipsis\" style=\"display: none;\"><a href=\"javascript:melon.link.goArtistDetail('531700');\" title=\"브레이브걸스 - 페이지 이동\">브레이브걸스</a></span>\n",
            "</div>\n",
            "</div>\n",
            "</div></td>\n",
            "<td><div class=\"wrap\">\n",
            "<div class=\"wrap_song_info\">\n",
            "<div class=\"ellipsis rank03\">\n",
            "<a href=\"javascript:melon.link.goAlbumDetail('10043575');\" title=\"Rollin' - 페이지 이동\">Rollin'</a>\n",
            "</div>\n",
            "</div>\n",
            "</div></td>\n",
            "<td><div class=\"wrap\">\n",
            "<button class=\"button_etc like\" data-song-menuid=\"19030101\" data-song-no=\"30287019\" title=\"롤린 (Rollin') 좋아요\" type=\"button\"><span class=\"odd_span\">좋아요</span>\n",
            "<span class=\"cnt\">\n",
            "<span class=\"none\">총건수</span>\n",
            "235,235</span></button>\n",
            "</div></td>\n",
            "<td><div class=\"wrap t_center\">\n",
            "<button class=\"button_icons play \" onclick=\"melon.play.playSong('19030101',30287019);\" title=\"듣기\" type=\"button\"><span class=\"none\">듣기</span></button>\n",
            "</div></td>\n",
            "<td><div class=\"wrap t_center\">\n",
            "<button class=\"button_icons scrap \" onclick=\"melon.play.addPlayList('30287019');\" title=\"담기\" type=\"button\"><span class=\"none\">담기</span></button>\n",
            "</div></td>\n",
            "<td><div class=\"wrap t_center\">\n",
            "<button class=\"button_icons download \" onclick=\"melon.buy.goBuyProduct('frm', '30287019', '3C0001', '','0', '19030101');\" title=\"다운로드\" type=\"button\"><span class=\"none\">다운로드</span></button>\n",
            "</div></td>\n",
            "<td><div class=\"wrap t_center\">\n",
            "<button class=\"button_icons video \" onclick=\"melon.link.goMvDetail('19030101', '30287019','song');\" title=\"뮤직비디오\" type=\"button\"><span class=\"none\">뮤직비디오</span></button>\n",
            "</div></td>\n",
            "</tr>\n"
          ],
          "name": "stdout"
        }
      ]
    },
    {
      "cell_type": "code",
      "metadata": {
        "colab": {
          "base_uri": "https://localhost:8080/"
        },
        "id": "nGSnB8gxvDvl",
        "outputId": "419db0ca-93d6-43c4-af94-e44b8bccc9ea"
      },
      "source": [
        "# 곡 제목 찾기 1\n",
        "title = song.select('a')\n",
        "len(title)"
      ],
      "execution_count": null,
      "outputs": [
        {
          "output_type": "execute_result",
          "data": {
            "text/plain": [
              "6"
            ]
          },
          "metadata": {
            "tags": []
          },
          "execution_count": 10
        }
      ]
    },
    {
      "cell_type": "code",
      "metadata": {
        "colab": {
          "base_uri": "https://localhost:8080/"
        },
        "id": "dfygCtzJvDyr",
        "outputId": "e7ae9c2f-6f51-4a30-c3dc-abb822e94dac"
      },
      "source": [
        "# 곡 제목 찾기 2\n",
        "title = song.select('span > a')\n",
        "len(title)"
      ],
      "execution_count": null,
      "outputs": [
        {
          "output_type": "execute_result",
          "data": {
            "text/plain": [
              "2"
            ]
          },
          "metadata": {
            "tags": []
          },
          "execution_count": 11
        }
      ]
    },
    {
      "cell_type": "code",
      "metadata": {
        "colab": {
          "base_uri": "https://localhost:8080/"
        },
        "id": "9JoGUGe6vD1O",
        "outputId": "26b86a1f-2753-45d3-c88a-6bd5c1166d40"
      },
      "source": [
        "# 곡 제목 찾기 3\n",
        "title = song.select('div.ellipsis.rank01 > span > a')\n",
        "len(title)"
      ],
      "execution_count": null,
      "outputs": [
        {
          "output_type": "execute_result",
          "data": {
            "text/plain": [
              "1"
            ]
          },
          "metadata": {
            "tags": []
          },
          "execution_count": 12
        }
      ]
    },
    {
      "cell_type": "code",
      "metadata": {
        "colab": {
          "base_uri": "https://localhost:8080/",
          "height": 35
        },
        "id": "CV0mc5OHvD4H",
        "outputId": "9690cdc9-b7bc-414d-ed41-96fcf8022741"
      },
      "source": [
        "# 곡 제목 가져오기\n",
        "title = song.select('div.ellipsis.rank01 > span > a')[0].text\n",
        "title"
      ],
      "execution_count": null,
      "outputs": [
        {
          "output_type": "execute_result",
          "data": {
            "application/vnd.google.colaboratory.intrinsic+json": {
              "type": "string"
            },
            "text/plain": [
              "\"롤린 (Rollin')\""
            ]
          },
          "metadata": {
            "tags": []
          },
          "execution_count": 13
        }
      ]
    },
    {
      "cell_type": "code",
      "metadata": {
        "colab": {
          "base_uri": "https://localhost:8080/"
        },
        "id": "W2qfDrD6vM2l",
        "outputId": "18e85d1f-1052-40fe-98ea-eade08fb4e83"
      },
      "source": [
        "# 가수 찾기\n",
        "singer = song.select('div.ellipsis.rank02 > a')\n",
        "len(singer)"
      ],
      "execution_count": null,
      "outputs": [
        {
          "output_type": "execute_result",
          "data": {
            "text/plain": [
              "1"
            ]
          },
          "metadata": {
            "tags": []
          },
          "execution_count": 14
        }
      ]
    },
    {
      "cell_type": "code",
      "metadata": {
        "colab": {
          "base_uri": "https://localhost:8080/",
          "height": 35
        },
        "id": "QYtolDn0vM5f",
        "outputId": "ab555830-8600-414a-8e39-9664cfc17812"
      },
      "source": [
        "# 가수 정보 가져오기\n",
        "singer = song.select('div.ellipsis.rank02 > a')[0].text\n",
        "singer"
      ],
      "execution_count": null,
      "outputs": [
        {
          "output_type": "execute_result",
          "data": {
            "application/vnd.google.colaboratory.intrinsic+json": {
              "type": "string"
            },
            "text/plain": [
              "'브레이브걸스'"
            ]
          },
          "metadata": {
            "tags": []
          },
          "execution_count": 15
        }
      ]
    },
    {
      "cell_type": "code",
      "metadata": {
        "colab": {
          "base_uri": "https://localhost:8080/"
        },
        "id": "tTpeFE3wvNYT",
        "outputId": "35caa7db-9de8-4f10-92a0-e00b7708f114"
      },
      "source": [
        "# 멜론 50위 노래순위 정보 가져오기\n",
        "for song in songs:                                        \n",
        "    title = song.select('div.ellipsis.rank01 > span > a')[0].text\n",
        "    singer = song.select ('div.ellipsis.rank02 > a')[0].text  \n",
        "    print(title, singer, sep = ' | ')"
      ],
      "execution_count": null,
      "outputs": [
        {
          "output_type": "stream",
          "text": [
            "롤린 (Rollin') | 브레이브걸스\n",
            "라일락 | 아이유\n",
            "Peaches (Feat. Daniel Caesar & Giveon) | Justin Bieber\n",
            "Celebrity | 아이유\n",
            "운전만해 (We Ride) | 브레이브걸스\n",
            "Timeless | SG 워너비\n",
            "Coin | 아이유\n",
            "내 손을 잡아 | 아이유\n",
            "라라라 | SG 워너비\n",
            "On The Ground | 로제 (ROSÉ)\n",
            "LOVE DAY (2021) (바른연애 길잡이 X 양요섭, 정은지) | 양요섭\n",
            "Dynamite | 방탄소년단\n",
            "내사람 | SG 워너비\n",
            "그냥 안아달란 말야 | 다비치\n",
            "밝게 빛나는 별이 되어 비춰줄게 | 송이한\n",
            "밤하늘의 별을(2020) | 경서\n",
            "잠이 오질 않네요 | 장범준\n",
            "Blueming | 아이유\n",
            "에잇(Prod.&Feat. SUGA of BTS) | 아이유\n",
            "취기를 빌려 (취향저격 그녀 X 산들) | 산들\n",
            "봄 안녕 봄 | 아이유\n",
            "VVS (Feat. JUSTHIS) (Prod. GroovyRoom) | 미란이 (Mirani)\n",
            "Lovesick Girls | BLACKPINK\n",
            "살다가 | SG 워너비\n",
            "나랑 같이 걸을래 (바른연애 길잡이 X 적재) | 적재\n",
            "흔들리는 꽃들 속에서 네 샴푸향이 느껴진거야 | 장범준\n",
            "어푸 (Ah puh) | 아이유\n",
            "이 밤을 빌려 말해요 (바른연애 길잡이 X 10CM) | 10CM\n",
            "Flu | 아이유\n",
            "아이와 나의 바다 | 아이유\n",
            "그날에 나는 맘이 편했을까 | 이예준\n",
            "12:45 (Stripped) | Etham\n",
            "어떻게 이별까지 사랑하겠어, 널 사랑하는 거지 | AKMU (악동뮤지션)\n",
            "오래된 노래 | 스탠딩 에그\n",
            "추억은 만남보다 이별에 남아 | 정동하\n",
            "Savage Love (Laxed - Siren Beat) (BTS Remix) | Jawsh 685\n",
            "멜로디 | ASH ISLAND\n",
            "힘든 건 사랑이 아니다 | 임창정\n",
            "METEOR | 창모 (CHANGMO)\n",
            "Dolphin | 오마이걸 (OH MY GIRL)\n",
            "2002 | Anne-Marie\n",
            "모든 날, 모든 순간 (Every day, Every Moment) | 폴킴\n",
            "사실 나는 (Feat.전건호) | 경서예지\n",
            "돌림노래 (Feat. DEAN) | 아이유\n",
            "봄날 | 방탄소년단\n",
            "Life Goes On | 방탄소년단\n",
            "어떻게 지내 (Prod. By VAN.C) | 오반 (OVAN)\n",
            "아로하 | 조정석\n",
            "오늘도 빛나는 너에게 (To You My Light) (Feat.이라온) | 마크툽 (MAKTUB)\n",
            "작은 것들을 위한 시 (Boy With Luv) (Feat. Halsey) | 방탄소년단\n",
            "너의 번호를 누르고 (Prod. 영화처럼) | #안녕\n",
            "고백 (바른연애 길잡이 X 허각) | 허각\n",
            "늦은 밤 너의 집 앞 골목길에서 | 노을\n",
            "How You Like That | BLACKPINK\n",
            "내 마음이 움찔했던 순간 (취향저격 그녀 X 규현) | 규현 (KYUHYUN)\n",
            "Gone | 로제 (ROSÉ)\n",
            "마음을 드려요 | 아이유\n",
            "Memories | Maroon 5\n",
            "살짝 설렜어 (Nonstop) | 오마이걸 (OH MY GIRL)\n",
            "에필로그 | 아이유\n",
            "함께 했는데 이별은 나 혼자인 거야 | 소정 (레이디스 코드)\n",
            "이제 나만 믿어요 | 임영웅\n",
            "Love poem | 아이유\n",
            "되풀이 | 임창정\n",
            "Dance Monkey | Tones And I\n",
            "죄와벌 | SG 워너비\n",
            "이렇게 좋아해 본 적이 없어요 | CHEEZE (치즈)\n",
            "When We Disco (Duet with 선미) | 박진영\n",
            "사이렌 Remix (Feat. UNEDUCATED KID, Paul Blanco) | 호미들\n",
            "혼술하고 싶은 밤 | 벤\n",
            "너를 만나 | 폴킴\n",
            "시작 | 가호 (Gaho)\n",
            "내일이 오면 (Feat. 기리보이, BIG Naughty (서동현)) | 릴보이 (lIlBOI)\n",
            "우린 어쩌다 헤어진 걸까 | 허각\n",
            "서면역에서 | 순순희\n",
            "우리 왜 헤어져야 해 | 신예영\n",
            "그 한마디 (바른연애 길잡이 X 이하이) | 이하이\n",
            "Paris In The Rain | Lauv\n",
            "빈 컵 (Empty Cup) | 아이유\n",
            "안녕이란 (Two Letters) | 황치열\n",
            "I'm Not Cool | 현아\n",
            "안녕 | 폴킴\n",
            "술 한잔 해요 | 경서 (경서예지)\n",
            "거짓말이라도 해서 널 보고싶어 | 백지영\n",
            "Downtown Baby | 블루 (BLOO)\n",
            "Don't Start Now | Dua Lipa\n",
            "딩가딩가 (Dingga) | 마마무 (Mamamoo)\n",
            "어떤X (What Type of X) | 제시 (Jessi)\n",
            "Maniac | Conan Gray\n",
            "마리아 (Maria) | 화사 (Hwa Sa)\n",
            "서른 밤째 (바른연애 길잡이 X 윤하 (YOUNHA)) | 윤하 (YOUNHA)\n",
            "Don't Call Me | SHINee (샤이니)\n",
            "사랑은 지날수록 더욱 선명하게 남아 | 전상근\n",
            "아리랑 | SG 워너비\n",
            "봄 사랑 벚꽃 말고 | HIGH4 (하이포)\n",
            "꼬리 (TAIL) | 선미\n",
            "Panorama | IZ*ONE (아이즈원)\n",
            "다시 만날까 봐 (Prod.V.O.S) | 이예준\n",
            "You make Me | DAY6 (데이식스)\n",
            "왜 사랑은 언제나 쉽지 않을까? (바른연애 길잡이 X 조이 (JOY)) | 조이 (JOY)\n"
          ],
          "name": "stdout"
        }
      ]
    },
    {
      "cell_type": "code",
      "metadata": {
        "colab": {
          "base_uri": "https://localhost:8080/"
        },
        "id": "mBT4f_gjvNhO",
        "outputId": "1883a145-7c60-422b-c2d4-27cd9aaa11a9"
      },
      "source": [
        "# 멜론 인기차트 중 상위 50곡 크롤링(selenium만 활용)         \n",
        "                                \n",
        "songs = driver.find_elements_by_css_selector('tr')[1:]     # 멜론 사이트 개편으로 코드 수정(updated 2020.07.13)\n",
        "for song in songs:                                        \n",
        "    title = song.find_elements_by_css_selector('div.ellipsis.rank01 > span > a')[0].text\n",
        "    singer = song.find_elements_by_css_selector('div.ellipsis.rank02 > a')[0].text  \n",
        "    print(title, singer, sep = ' | ')"
      ],
      "execution_count": null,
      "outputs": [
        {
          "output_type": "stream",
          "text": [
            "롤린 (Rollin') | 브레이브걸스\n",
            "라일락 | 아이유\n",
            "Peaches (Feat. Daniel Caesar & Giveon) | Justin Bieber\n",
            "Celebrity | 아이유\n",
            "운전만해 (We Ride) | 브레이브걸스\n",
            "Timeless | SG 워너비\n",
            "Coin | 아이유\n",
            "내 손을 잡아 | 아이유\n",
            "라라라 | SG 워너비\n",
            "On The Ground | 로제 (ROSÉ)\n",
            "LOVE DAY (2021) (바른연애 길잡이 X 양요섭, 정은지) | 양요섭\n",
            "Dynamite | 방탄소년단\n",
            "내사람 | SG 워너비\n",
            "그냥 안아달란 말야 | 다비치\n",
            "밝게 빛나는 별이 되어 비춰줄게 | 송이한\n",
            "밤하늘의 별을(2020) | 경서\n",
            "잠이 오질 않네요 | 장범준\n",
            "Blueming | 아이유\n",
            "에잇(Prod.&Feat. SUGA of BTS) | 아이유\n",
            "취기를 빌려 (취향저격 그녀 X 산들) | 산들\n",
            "봄 안녕 봄 | 아이유\n",
            "VVS (Feat. JUSTHIS) (Prod. GroovyRoom) | 미란이 (Mirani)\n",
            "Lovesick Girls | BLACKPINK\n",
            "살다가 | SG 워너비\n",
            "나랑 같이 걸을래 (바른연애 길잡이 X 적재) | 적재\n",
            "흔들리는 꽃들 속에서 네 샴푸향이 느껴진거야 | 장범준\n",
            "어푸 (Ah puh) | 아이유\n",
            "이 밤을 빌려 말해요 (바른연애 길잡이 X 10CM) | 10CM\n",
            "Flu | 아이유\n",
            "아이와 나의 바다 | 아이유\n",
            "그날에 나는 맘이 편했을까 | 이예준\n",
            "12:45 (Stripped) | Etham\n",
            "어떻게 이별까지 사랑하겠어, 널 사랑하는 거지 | AKMU (악동뮤지션)\n",
            "오래된 노래 | 스탠딩 에그\n",
            "추억은 만남보다 이별에 남아 | 정동하\n",
            "Savage Love (Laxed - Siren Beat) (BTS Remix) | Jawsh 685\n",
            "멜로디 | ASH ISLAND\n",
            "힘든 건 사랑이 아니다 | 임창정\n",
            "METEOR | 창모 (CHANGMO)\n",
            "Dolphin | 오마이걸 (OH MY GIRL)\n",
            "2002 | Anne-Marie\n",
            "모든 날, 모든 순간 (Every day, Every Moment) | 폴킴\n",
            "사실 나는 (Feat.전건호) | 경서예지\n",
            "돌림노래 (Feat. DEAN) | 아이유\n",
            "봄날 | 방탄소년단\n",
            "Life Goes On | 방탄소년단\n",
            "어떻게 지내 (Prod. By VAN.C) | 오반 (OVAN)\n",
            "아로하 | 조정석\n",
            "오늘도 빛나는 너에게 (To You My Light) (Feat.이라온) | 마크툽 (MAKTUB)\n",
            "작은 것들을 위한 시 (Boy With Luv) (Feat. Halsey) | 방탄소년단\n",
            "너의 번호를 누르고 (Prod. 영화처럼) | #안녕\n",
            "고백 (바른연애 길잡이 X 허각) | 허각\n",
            "늦은 밤 너의 집 앞 골목길에서 | 노을\n",
            "How You Like That | BLACKPINK\n",
            "내 마음이 움찔했던 순간 (취향저격 그녀 X 규현) | 규현 (KYUHYUN)\n",
            "Gone | 로제 (ROSÉ)\n",
            "마음을 드려요 | 아이유\n",
            "Memories | Maroon 5\n",
            "살짝 설렜어 (Nonstop) | 오마이걸 (OH MY GIRL)\n",
            "에필로그 | 아이유\n",
            "함께 했는데 이별은 나 혼자인 거야 | 소정 (레이디스 코드)\n",
            "이제 나만 믿어요 | 임영웅\n",
            "Love poem | 아이유\n",
            "되풀이 | 임창정\n",
            "Dance Monkey | Tones And I\n",
            "죄와벌 | SG 워너비\n",
            "이렇게 좋아해 본 적이 없어요 | CHEEZE (치즈)\n",
            "When We Disco (Duet with 선미) | 박진영\n",
            "사이렌 Remix (Feat. UNEDUCATED KID, Paul Blanco) | 호미들\n",
            "혼술하고 싶은 밤 | 벤\n",
            "너를 만나 | 폴킴\n",
            "시작 | 가호 (Gaho)\n",
            "내일이 오면 (Feat. 기리보이, BIG Naughty (서동현)) | 릴보이 (lIlBOI)\n",
            "우린 어쩌다 헤어진 걸까 | 허각\n",
            "서면역에서 | 순순희\n",
            "우리 왜 헤어져야 해 | 신예영\n",
            "그 한마디 (바른연애 길잡이 X 이하이) | 이하이\n",
            "Paris In The Rain | Lauv\n",
            "빈 컵 (Empty Cup) | 아이유\n",
            "안녕이란 (Two Letters) | 황치열\n",
            "I'm Not Cool | 현아\n",
            "안녕 | 폴킴\n",
            "술 한잔 해요 | 경서 (경서예지)\n",
            "거짓말이라도 해서 널 보고싶어 | 백지영\n",
            "Downtown Baby | 블루 (BLOO)\n",
            "Don't Start Now | Dua Lipa\n",
            "딩가딩가 (Dingga) | 마마무 (Mamamoo)\n",
            "어떤X (What Type of X) | 제시 (Jessi)\n",
            "Maniac | Conan Gray\n",
            "마리아 (Maria) | 화사 (Hwa Sa)\n",
            "서른 밤째 (바른연애 길잡이 X 윤하 (YOUNHA)) | 윤하 (YOUNHA)\n",
            "Don't Call Me | SHINee (샤이니)\n",
            "사랑은 지날수록 더욱 선명하게 남아 | 전상근\n",
            "아리랑 | SG 워너비\n",
            "봄 사랑 벚꽃 말고 | HIGH4 (하이포)\n",
            "꼬리 (TAIL) | 선미\n",
            "Panorama | IZ*ONE (아이즈원)\n",
            "다시 만날까 봐 (Prod.V.O.S) | 이예준\n",
            "You make Me | DAY6 (데이식스)\n",
            "왜 사랑은 언제나 쉽지 않을까? (바른연애 길잡이 X 조이 (JOY)) | 조이 (JOY)\n"
          ],
          "name": "stdout"
        }
      ]
    },
    {
      "cell_type": "code",
      "metadata": {
        "id": "pGCH-LukvNk3"
      },
      "source": [
        ""
      ],
      "execution_count": null,
      "outputs": []
    }
  ]
}