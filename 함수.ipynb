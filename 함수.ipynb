{
  "nbformat": 4,
  "nbformat_minor": 0,
  "metadata": {
    "colab": {
      "name": "함수.ipynb",
      "provenance": [],
      "authorship_tag": "ABX9TyNuDC5zQuFqXqpMmRL30vv5",
      "include_colab_link": true
    },
    "kernelspec": {
      "name": "python3",
      "display_name": "Python 3"
    },
    "language_info": {
      "name": "python"
    }
  },
  "cells": [
    {
      "cell_type": "markdown",
      "metadata": {
        "id": "view-in-github",
        "colab_type": "text"
      },
      "source": [
        "<a href=\"https://colab.research.google.com/github/osh9149/2021_2_cs/blob/main/%ED%95%A8%EC%88%98.ipynb\" target=\"_parent\"><img src=\"https://colab.research.google.com/assets/colab-badge.svg\" alt=\"Open In Colab\"/></a>"
      ]
    },
    {
      "cell_type": "code",
      "metadata": {
        "colab": {
          "base_uri": "https://localhost:8080/"
        },
        "id": "usuQ8yEzOXfn",
        "outputId": "76edca38-7afd-4ff0-f6ac-45c313f32cae"
      },
      "source": [
        "n=int(input())\n",
        "if n%2==0:\n",
        "    print('even')\n",
        "else:\n",
        "    print('odd')"
      ],
      "execution_count": null,
      "outputs": [
        {
          "output_type": "stream",
          "text": [
            "55\n",
            "odd\n"
          ],
          "name": "stdout"
        }
      ]
    },
    {
      "cell_type": "code",
      "metadata": {
        "colab": {
          "base_uri": "https://localhost:8080/"
        },
        "id": "HqBQKaN1Ov_g",
        "outputId": "5f57c73b-5a4e-49a4-e6b3-17481a2c5e4a"
      },
      "source": [
        "def even_odd(x):\n",
        "    if x%2==0:\n",
        "        print('even')\n",
        "    else:\n",
        "        print('odd')\n",
        "\n",
        "n=int(input())\n",
        "even_odd(n)"
      ],
      "execution_count": null,
      "outputs": [
        {
          "output_type": "stream",
          "text": [
            "12\n",
            "even\n"
          ],
          "name": "stdout"
        }
      ]
    },
    {
      "cell_type": "code",
      "metadata": {
        "colab": {
          "base_uri": "https://localhost:8080/"
        },
        "id": "3dI9-pbBPitf",
        "outputId": "02461c78-181b-4812-81b2-9518ce3a3284"
      },
      "source": [
        "a,b,c,=map(int, input().split())\n",
        "sum=a+b+c\n",
        "avg=sum/3\n",
        "print('sum :{}, avg :{}'.format(sum,avg))"
      ],
      "execution_count": null,
      "outputs": [
        {
          "output_type": "stream",
          "text": [
            "100 90 80\n",
            "sum :270, avg :90.0\n"
          ],
          "name": "stdout"
        }
      ]
    },
    {
      "cell_type": "code",
      "metadata": {
        "colab": {
          "base_uri": "https://localhost:8080/"
        },
        "id": "VkNdBW_kQQK3",
        "outputId": "81173fab-0522-448b-e718-f9d87bff2fd2"
      },
      "source": [
        "def triangle(a,b):\n",
        "    area=a*b/2 \n",
        "    print('삼각형의 넓이 : %d'%area)\n",
        "\n",
        "x,y=map(int, input().split())\n",
        "triangle(x,y)"
      ],
      "execution_count": null,
      "outputs": [
        {
          "output_type": "stream",
          "text": [
            "100 78\n",
            "삼각형의 넓이 : 3900\n"
          ],
          "name": "stdout"
        }
      ]
    },
    {
      "cell_type": "code",
      "metadata": {
        "id": "sfGckTx8Xgsm"
      },
      "source": [
        ""
      ],
      "execution_count": null,
      "outputs": []
    }
  ]
}