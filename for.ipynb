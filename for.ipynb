{
  "nbformat": 4,
  "nbformat_minor": 0,
  "metadata": {
    "colab": {
      "name": "for.ipynb",
      "provenance": [],
      "collapsed_sections": [],
      "authorship_tag": "ABX9TyOBTYoTTqBqktoonCfUTJjX",
      "include_colab_link": true
    },
    "kernelspec": {
      "name": "python3",
      "display_name": "Python 3"
    },
    "language_info": {
      "name": "python"
    }
  },
  "cells": [
    {
      "cell_type": "markdown",
      "metadata": {
        "id": "view-in-github",
        "colab_type": "text"
      },
      "source": [
        "<a href=\"https://colab.research.google.com/github/osh9149/2021_2_cs/blob/main/for.ipynb\" target=\"_parent\"><img src=\"https://colab.research.google.com/assets/colab-badge.svg\" alt=\"Open In Colab\"/></a>"
      ]
    },
    {
      "cell_type": "markdown",
      "metadata": {
        "id": "Fajvbq-VovQG"
      },
      "source": [
        "반복문 for 변수 in range(시작값,끝값,증감):  #끝값은 끝나는 값에 1을 더해줌"
      ]
    },
    {
      "cell_type": "code",
      "metadata": {
        "colab": {
          "base_uri": "https://localhost:8080/"
        },
        "id": "-bzvs1r_-R70",
        "outputId": "c84f18f0-b632-41f8-9561-3c57dcf66590"
      },
      "source": [
        "for x in range(1,11,2):\n",
        "    print(x)"
      ],
      "execution_count": null,
      "outputs": [
        {
          "output_type": "stream",
          "text": [
            "1\n",
            "3\n",
            "5\n",
            "7\n",
            "9\n"
          ],
          "name": "stdout"
        }
      ]
    },
    {
      "cell_type": "code",
      "metadata": {
        "colab": {
          "base_uri": "https://localhost:8080/"
        },
        "id": "IMszc2vz_re6",
        "outputId": "5d071db9-0ebb-4650-d041-4a01f8faac5b"
      },
      "source": [
        "for x in range(1,101):\n",
        "    if x%2==1:\n",
        "        print(x,end=' ')"
      ],
      "execution_count": null,
      "outputs": [
        {
          "output_type": "stream",
          "text": [
            "1 3 5 7 9 11 13 15 17 19 21 23 25 27 29 31 33 35 37 39 41 43 45 47 49 51 53 55 57 59 61 63 65 67 69 71 73 75 77 79 81 83 85 87 89 91 93 95 97 99 "
          ],
          "name": "stdout"
        }
      ]
    },
    {
      "cell_type": "markdown",
      "metadata": {
        "id": "RIKOF71sps4I"
      },
      "source": [
        "연습문제. 1부터 100까지 수 중에서 짝수만 출력하세요"
      ]
    },
    {
      "cell_type": "code",
      "metadata": {
        "id": "utvkTmkOpwWS"
      },
      "source": [
        ""
      ],
      "execution_count": null,
      "outputs": []
    },
    {
      "cell_type": "markdown",
      "metadata": {
        "id": "ElNtKHr-p4Qb"
      },
      "source": [
        "연습문제. 1부터 100까지 모두 더한값을 출력하세요."
      ]
    },
    {
      "cell_type": "code",
      "metadata": {
        "colab": {
          "base_uri": "https://localhost:8080/"
        },
        "id": "uJYlTg2qAb-5",
        "outputId": "e9ea2d8f-0393-4f77-bfa0-3a8697e50d73"
      },
      "source": [
        "sum=0\n",
        "for x in range(1,1001):\n",
        "     sum=sum+x\n",
        "print(sum)"
      ],
      "execution_count": 1,
      "outputs": [
        {
          "output_type": "stream",
          "text": [
            "500500\n"
          ],
          "name": "stdout"
        }
      ]
    },
    {
      "cell_type": "markdown",
      "metadata": {
        "id": "GuzCX62up-tx"
      },
      "source": [
        "연습문제.1부터 n까지 더한 값을 출력하세요."
      ]
    },
    {
      "cell_type": "markdown",
      "metadata": {
        "id": "2TAvE9sJqGkf"
      },
      "source": [
        ""
      ]
    },
    {
      "cell_type": "code",
      "metadata": {
        "id": "3pu1LTMHCjvw"
      },
      "source": [
        "for i in range(1,11):\n",
        "    print('@' * i)"
      ],
      "execution_count": null,
      "outputs": []
    },
    {
      "cell_type": "code",
      "metadata": {
        "id": "kJ1TtHVFFdnv"
      },
      "source": [
        "n=int(input())\n",
        "for i in range(1,n+1):\n",
        "    print('@' * i)"
      ],
      "execution_count": null,
      "outputs": []
    },
    {
      "cell_type": "code",
      "metadata": {
        "id": "_t4perykFojX"
      },
      "source": [
        "n=int(input())\n",
        "for i in range(n,0,-1):\n",
        "    print('@' * i)"
      ],
      "execution_count": null,
      "outputs": []
    },
    {
      "cell_type": "code",
      "metadata": {
        "id": "f0t8C998GDCf"
      },
      "source": [
        ""
      ],
      "execution_count": null,
      "outputs": []
    }
  ]
}